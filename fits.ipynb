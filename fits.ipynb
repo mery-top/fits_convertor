{
 "cells": [
  {
   "cell_type": "code",
   "execution_count": 9,
   "metadata": {},
   "outputs": [],
   "source": [
    "from astropy.io import fits"
   ]
  },
  {
   "cell_type": "code",
   "execution_count": 10,
   "metadata": {},
   "outputs": [
    {
     "name": "stdout",
     "output_type": "stream",
     "text": [
      "7.0.0\n"
     ]
    }
   ],
   "source": [
    "import astropy\n",
    "print(astropy.__version__)\n"
   ]
  },
  {
   "cell_type": "code",
   "execution_count": 11,
   "metadata": {},
   "outputs": [],
   "source": [
    "import matplotlib.pyplot as plt"
   ]
  },
  {
   "cell_type": "code",
   "execution_count": 12,
   "metadata": {},
   "outputs": [],
   "source": [
    "import numpy as np"
   ]
  },
  {
   "cell_type": "code",
   "execution_count": null,
   "metadata": {},
   "outputs": [],
   "source": []
  },
  {
   "cell_type": "code",
   "execution_count": 13,
   "metadata": {},
   "outputs": [],
   "source": [
    "file = fits.open(\"AS1G02_010T01_9000000252lxp1EA_level1.fits\")\n"
   ]
  },
  {
   "cell_type": "code",
   "execution_count": 14,
   "metadata": {},
   "outputs": [
    {
     "data": {
      "text/plain": [
       "<bound method HDUList.info of [<astropy.io.fits.hdu.image.PrimaryHDU object at 0x11fa6dc10>, <astropy.io.fits.hdu.table.BinTableHDU object at 0x11fa85310>, <astropy.io.fits.hdu.table.BinTableHDU object at 0x11fa74a10>, <astropy.io.fits.hdu.table.BinTableHDU object at 0x11fa76e90>]>"
      ]
     },
     "execution_count": 14,
     "metadata": {},
     "output_type": "execute_result"
    }
   ],
   "source": [
    "file.info"
   ]
  },
  {
   "cell_type": "code",
   "execution_count": 15,
   "metadata": {},
   "outputs": [
    {
     "data": {
      "text/plain": [
       "SIMPLE  =                    T / file does conform to FITS standard             \n",
       "BITPIX  =                   16 / number of bits per data pixel                  \n",
       "NAXIS   =                    0 / number of data axes                            \n",
       "EXTEND  =                    T / FITS dataset may contain extensions            \n",
       "COMMENT   FITS (Flexible Image Transport System) format is defined in 'Astronomy\n",
       "COMMENT   and Astrophysics', volume 376, page 359; bibcode: 2001A&A...376..359H \n",
       "MISSION = 'ASTROSAT'                                                            \n",
       "ORIGIN  = 'ASTROSAT-LAXPC-L1'  / Configuration Control                          \n",
       "CREATOR = 'LAXPC-L1'                                                            \n",
       "TELESCOP= 'ASTROSAT'                                                            \n",
       "INSTRUME= 'LAXPC1  '                                                            \n",
       "DATE    = '2016-01-08T02:21:55' / file creation date (YYYY-MM-DDThh:mm:ss UTC)  \n",
       "DATE-OBS= '2016-01-07'         / Start date for data                            \n",
       "TIME-OBS= '23:53:18.527825952' / Start time for data                            \n",
       "DATE-END= '2016-01-08'         / End date for data                              \n",
       "TIME-END= '02:01:46.453195424' / End time for data                              \n",
       "TIMESYS = 'UTC     '           / Time will be UTC                               \n",
       "MJDREFI =                55197 / 2010.0(UTC) expressed in UTC (integer part)    \n",
       "MJDREFF =                   0. / 2010.0(UTC) expressed in UTC (fractional part) \n",
       "TIMEZERI=                    0 / Clock correction integer                       \n",
       "TIMEZERF=                   0. / Clock correction fractional                    \n",
       "TIMEDEL =                    0 / Time resolution                                \n",
       "TIMEUNIT= 's       '                                                            \n",
       "TSTART  =     189906798.527826 / Start time                                     \n",
       "TSTARTI =            189906798 / integer portion of start time                  \n",
       "TSTARTF =             0.527826 / fractional observation start time              \n",
       "TSTOP   =     189914506.453195 / Stop time                                      \n",
       "TSTOPI  =            189914506 / integer observation stop time                  \n",
       "TSTOPF  =            0.4531954 / fractional observation stop time               \n",
       "OBJECT  = 'Crab    '           / Source information block                       \n",
       "RA_PNT  =            83.625862 / Nominal pointing                               \n",
       "DEC_PNT =            22.024641 / Nominal pointing                               \n",
       "EQUINOX =                2000. / J2000.0                                        \n",
       "RADECSYS= 'ICRS    '           / Julian coordinate reference frame              \n",
       "OBSERVER= 'santoshv'           / Observation information block                  \n",
       "OBS_ID  = 'G02_010T01_9000000252' / Observation information block               \n",
       "SOURCEID= 'Crab    '           / Source Id                                      \n",
       "TARGETID= 'T01     '           / Target Id                                      \n",
       "EXP_TIME=                   0. / Exposure Time                                  \n",
       "ORB_NUM =                 1509 / Orbit Number                                   \n",
       "CHECKSUM= 'W6Aia52hZ58ha58h'   / HDU checksum updated 2016-01-08T02:21:55       \n",
       "DATASUM = '         0'         / data unit checksum updated 2016-01-08T02:21:55 "
      ]
     },
     "execution_count": 15,
     "metadata": {},
     "output_type": "execute_result"
    }
   ],
   "source": [
    "file[0].header"
   ]
  },
  {
   "cell_type": "code",
   "execution_count": 16,
   "metadata": {},
   "outputs": [
    {
     "ename": "AttributeError",
     "evalue": "'NoneType' object has no attribute 'shape'",
     "output_type": "error",
     "traceback": [
      "\u001b[0;31m---------------------------------------------------------------------------\u001b[0m",
      "\u001b[0;31mAttributeError\u001b[0m                            Traceback (most recent call last)",
      "Cell \u001b[0;32mIn[16], line 2\u001b[0m\n\u001b[1;32m      1\u001b[0m data \u001b[38;5;241m=\u001b[39m file[\u001b[38;5;241m0\u001b[39m]\u001b[38;5;241m.\u001b[39mdata\n\u001b[0;32m----> 2\u001b[0m \u001b[43mdata\u001b[49m\u001b[38;5;241;43m.\u001b[39;49m\u001b[43mshape\u001b[49m\n",
      "\u001b[0;31mAttributeError\u001b[0m: 'NoneType' object has no attribute 'shape'"
     ]
    }
   ],
   "source": [
    "data = file[0].data\n",
    "data.shape"
   ]
  },
  {
   "cell_type": "code",
   "execution_count": 18,
   "metadata": {},
   "outputs": [
    {
     "name": "stdout",
     "output_type": "stream",
     "text": [
      "None\n",
      "SIMPLE  =                    T / file does conform to FITS standard             BITPIX  =                   16 / number of bits per data pixel                  NAXIS   =                    0 / number of data axes                            EXTEND  =                    T / FITS dataset may contain extensions            COMMENT   FITS (Flexible Image Transport System) format is defined in 'AstronomyCOMMENT   and Astrophysics', volume 376, page 359; bibcode: 2001A&A...376..359H MISSION = 'ASTROSAT'                                                            ORIGIN  = 'ASTROSAT-LAXPC-L1'  / Configuration Control                          CREATOR = 'LAXPC-L1'                                                            TELESCOP= 'ASTROSAT'                                                            INSTRUME= 'LAXPC1  '                                                            DATE    = '2016-01-08T02:21:55' / file creation date (YYYY-MM-DDThh:mm:ss UTC)  DATE-OBS= '2016-01-07'         / Start date for data                            TIME-OBS= '23:53:18.527825952' / Start time for data                            DATE-END= '2016-01-08'         / End date for data                              TIME-END= '02:01:46.453195424' / End time for data                              TIMESYS = 'UTC     '           / Time will be UTC                               MJDREFI =                55197 / 2010.0(UTC) expressed in UTC (integer part)    MJDREFF =                   0. / 2010.0(UTC) expressed in UTC (fractional part) TIMEZERI=                    0 / Clock correction integer                       TIMEZERF=                   0. / Clock correction fractional                    TIMEDEL =                    0 / Time resolution                                TIMEUNIT= 's       '                                                            TSTART  =     189906798.527826 / Start time                                     TSTARTI =            189906798 / integer portion of start time                  TSTARTF =             0.527826 / fractional observation start time              TSTOP   =     189914506.453195 / Stop time                                      TSTOPI  =            189914506 / integer observation stop time                  TSTOPF  =            0.4531954 / fractional observation stop time               OBJECT  = 'Crab    '           / Source information block                       RA_PNT  =            83.625862 / Nominal pointing                               DEC_PNT =            22.024641 / Nominal pointing                               EQUINOX =                2000. / J2000.0                                        RADECSYS= 'ICRS    '           / Julian coordinate reference frame              OBSERVER= 'santoshv'           / Observation information block                  OBS_ID  = 'G02_010T01_9000000252' / Observation information block               SOURCEID= 'Crab    '           / Source Id                                      TARGETID= 'T01     '           / Target Id                                      EXP_TIME=                   0. / Exposure Time                                  ORB_NUM =                 1509 / Orbit Number                                   CHECKSUM= 'W6Aia52hZ58ha58h'   / HDU checksum updated 2016-01-08T02:21:55       DATASUM = '         0'         / data unit checksum updated 2016-01-08T02:21:55 END                                                                                                                                                                                                                                                                                                                                                                                                                                                                                                                                                                                                                                                                                                                                                                                                                                                                                                                                                                                                                                                                                                                                                                                                                                                                                                                                                                                                                                                                                                                                                                                                                                                                                                                                                                                                                                                                                                                                                                                                                                                                                                                                                                                                                                                                                                                                                                                                                                                                                             \n"
     ]
    }
   ],
   "source": [
    "with fits.open('AS1G02_010T01_9000000252lxp1EA_level1.fits') as file:\n",
    "    primary_hdu = file[0]\n",
    "    print(primary_hdu.data)  # This should print 'None' if there's no data\n",
    "    print(primary_hdu.header)"
   ]
  },
  {
   "cell_type": "code",
   "execution_count": 19,
   "metadata": {},
   "outputs": [
    {
     "name": "stdout",
     "output_type": "stream",
     "text": [
      "HDU 0:\n",
      "Header: SIMPLE  =                    T / file does conform to FITS standard             BITPIX  =                   16 / number of bits per data pixel                  NAXIS   =                    0 / number of data axes                            EXTEND  =                    T / FITS dataset may contain extensions            COMMENT   FITS (Flexible Image Transport System) format is defined in 'AstronomyCOMMENT   and Astrophysics', volume 376, page 359; bibcode: 2001A&A...376..359H MISSION = 'ASTROSAT'                                                            ORIGIN  = 'ASTROSAT-LAXPC-L1'  / Configuration Control                          CREATOR = 'LAXPC-L1'                                                            TELESCOP= 'ASTROSAT'                                                            INSTRUME= 'LAXPC1  '                                                            DATE    = '2016-01-08T02:21:55' / file creation date (YYYY-MM-DDThh:mm:ss UTC)  DATE-OBS= '2016-01-07'         / Start date for data                            TIME-OBS= '23:53:18.527825952' / Start time for data                            DATE-END= '2016-01-08'         / End date for data                              TIME-END= '02:01:46.453195424' / End time for data                              TIMESYS = 'UTC     '           / Time will be UTC                               MJDREFI =                55197 / 2010.0(UTC) expressed in UTC (integer part)    MJDREFF =                   0. / 2010.0(UTC) expressed in UTC (fractional part) TIMEZERI=                    0 / Clock correction integer                       TIMEZERF=                   0. / Clock correction fractional                    TIMEDEL =                    0 / Time resolution                                TIMEUNIT= 's       '                                                            TSTART  =     189906798.527826 / Start time                                     TSTARTI =            189906798 / integer portion of start time                  TSTARTF =             0.527826 / fractional observation start time              TSTOP   =     189914506.453195 / Stop time                                      TSTOPI  =            189914506 / integer observation stop time                  TSTOPF  =            0.4531954 / fractional observation stop time               OBJECT  = 'Crab    '           / Source information block                       RA_PNT  =            83.625862 / Nominal pointing                               DEC_PNT =            22.024641 / Nominal pointing                               EQUINOX =                2000. / J2000.0                                        RADECSYS= 'ICRS    '           / Julian coordinate reference frame              OBSERVER= 'santoshv'           / Observation information block                  OBS_ID  = 'G02_010T01_9000000252' / Observation information block               SOURCEID= 'Crab    '           / Source Id                                      TARGETID= 'T01     '           / Target Id                                      EXP_TIME=                   0. / Exposure Time                                  ORB_NUM =                 1509 / Orbit Number                                   CHECKSUM= 'W6Aia52hZ58ha58h'   / HDU checksum updated 2016-01-08T02:21:55       DATASUM = '         0'         / data unit checksum updated 2016-01-08T02:21:55 END                                                                                                                                                                                                                                                                                                                                                                                                                                                                                                                                                                                                                                                                                                                                                                                                                                                                                                                                                                                                                                                                                                                                                                                                                                                                                                                                                                                                                                                                                                                                                                                                                                                                                                                                                                                                                                                                                                                                                                                                                                                                                                                                                                                                                                                                                                                                                                                                                                                                                             \n",
      "Data type: <class 'NoneType'>\n",
      "HDU 1:\n",
      "Header: XTENSION= 'BINTABLE'           / binary table extension                         BITPIX  =                    8 / 8-bit bytes                                    NAXIS   =                    2 / 2-dimensional binary table                     NAXIS1  =                 2242 / width of table in bytes                        NAXIS2  =                31995 / number of rows in table                        PCOUNT  =                    0 / size of special data area                      GCOUNT  =                    1 / one data group (required keyword)              TFIELDS =                    9 / number of fields in each row                   TTYPE1  = 'TIME    '           / label for field   1                            TFORM1  = 'D       '           / data format of field: 8-byte DOUBLE            TUNIT1  = 's       '           / physical unit of field                         TTYPE2  = 'GRT     '           / label for field   2                            TFORM2  = '7J      '           / data format of field: 4-byte INTEGER           TTYPE3  = 'FrameSequenceNumber' / label for field   3                           TFORM3  = 'K       '           / data format of field: 8-byte INTEGER           TTYPE4  = 'DataArray'          / label for field   4                            TFORM4  = '2048B   '           / data format of field: BYTE                     TTYPE5  = 'DecodingStatusFlag' / label for field   5                            TFORM5  = 'I       '           / data format of field: 2-byte INTEGER           TTYPE6  = 'DecodingErrorCount' / label for field   6                            TFORM6  = 'I       '           / data format of field: 2-byte INTEGER           TTYPE7  = 'DecodingErrorCorrCount' / label for field   7                        TFORM7  = 'I       '           / data format of field: 2-byte INTEGER           TTYPE8  = 'ErrorLocation'      / label for field   8                            TFORM8  = '36I     '           / data format of field: 2-byte INTEGER           TTYPE9  = 'DecodingErrorCorrFlag' / label for field   9                         TFORM9  = '36I     '           / data format of field: 2-byte INTEGER           EXTNAME = 'LAXPC_MODEEA'       / name of this binary table extension            ORIGIN  = 'LAXPC-L1'                                                            CREATOR = 'LAXPC-L1'                                                            DATAMODE= 'EA      '           / MODELAXPC Mode data                            HDUVERS = '1.0.0   '                                                            HDUCLASS= 'OGIP    '                                                            HDUCLAS1= 'ARRAY   '                                                            LONGSTRN= 'OGIP 1.0'           / The OGIP long string convention may be used    OBS_MODE= 'Regular Pointing'   / Pointing, slew, or scan                        TIMEDEL =                    0 / Time resolution                                CHECKSUM= 'ol1Eok0Eok0Eok0E'   / HDU checksum updated 2016-01-08T02:21:55       DATASUM = '1214033846'         / data unit checksum updated 2016-01-08T02:21:55 END                                                                                                                                                                                                                                                                                                                                                                                                                                                                                                                                                                                                                                                                                                                                                                                                                                                                                                                                                                                                                                                                                                                                                                                                                                                                                                                                                                                                                                                                                                                                                                                                                                                                                                                                                                                                                                                                                                                                                                                                                                                                                                                                                                                                                                                                                                                                                                                                                                                                                                                                                                                                                                                                                                                                             \n",
      "Data type: <class 'astropy.io.fits.fitsrec.FITS_rec'>\n",
      "HDU 2:\n",
      "Header: XTENSION= 'BINTABLE'           / binary table extension                         BITPIX  =                    8 / 8-bit bytes                                    NAXIS   =                    2 / 2-dimensional binary table                     NAXIS1  =                   16 / width of table in bytes                        NAXIS2  =                    2 / number of rows in table                        PCOUNT  =                    0 / size of special data area                      GCOUNT  =                    1 / one data group (required keyword)              TFIELDS =                    2 / number of fields in each row                   TTYPE1  = 'START   '           / label for field   1                            TFORM1  = '1D      '           / data format of field: 8-byte DOUBLE            TUNIT1  = 'sec     '           / physical unit of field                         TTYPE2  = 'STOP    '           / label for field   2                            TFORM2  = '1D      '           / data format of field: 8-byte DOUBLE            TUNIT2  = 'sec     '           / physical unit of field                         EXTNAME = 'GTI     '           / name of this binary table extension            ORIGIN  = 'LAXPC-L1'           / configuration control                          CREATOR = 'LAXPC-L1'           / program that produced file                     HDUCLASS= 'OGIP    '           / format confirms to OGIP/GSFC standard          LONGSTRN= 'OGIP 1.0'           / The OGIP long string convention may be used.   CHECKSUM= '7d6A8Z357b3A7Z35'   / HDU checksum updated 2016-01-08T02:24:10       DATASUM = '3888985280'         / data unit checksum updated 2016-01-08T02:24:10 END                                                                                                                                                                                                                                                                                                                                                                                                                                                                                                                                                                                                                                                                                                                                                                                                                                                                                                                                                                                                                                                                                                                                                                                                                                             \n",
      "Data type: <class 'astropy.io.fits.fitsrec.FITS_rec'>\n",
      "HDU 3:\n",
      "Header: XTENSION= 'BINTABLE'           / binary table extension                         BITPIX  =                    8 / 8-bit bytes                                    NAXIS   =                    2 / 2-dimensional binary table                     NAXIS1  =                   16 / width of table in bytes                        NAXIS2  =                    2 / number of rows in table                        PCOUNT  =                    0 / size of special data area                      GCOUNT  =                    1 / one data group (required keyword)              TFIELDS =                    2 / number of fields in each row                   TTYPE1  = 'START   '           / label for field   1                            TFORM1  = '1D      '           / data format of field: 8-byte DOUBLE            TUNIT1  = 'sec     '           / physical unit of field                         TTYPE2  = 'STOP    '           / label for field   2                            TFORM2  = '1D      '           / data format of field: 8-byte DOUBLE            TUNIT2  = 'sec     '           / physical unit of field                         EXTNAME = 'BTI     '           / name of this binary table extension            ORIGIN  = 'LAXPC-L1'           / configuration control                          CREATOR = 'LAXPC-L1'           / program that produced file                     HDUCLASS= 'OGIP    '           / format confirms to OGIP/GSFC standard          LONGSTRN= 'OGIP 1.0'           / The OGIP long string convention may be used.   CHECKSUM= 'JmFaKkETJkEYJkEY'   / HDU checksum updated 2016-01-08T02:24:10       DATASUM = '2945430918'         / data unit checksum updated 2016-01-08T02:24:10 END                                                                                                                                                                                                                                                                                                                                                                                                                                                                                                                                                                                                                                                                                                                                                                                                                                                                                                                                                                                                                                                                                                                                                                                                                                             \n",
      "Data type: <class 'astropy.io.fits.fitsrec.FITS_rec'>\n"
     ]
    }
   ],
   "source": [
    "with fits.open('AS1G02_010T01_9000000252lxp1EA_level1.fits') as file:\n",
    "    for i, hdu in enumerate(file):\n",
    "        print(f\"HDU {i}:\")\n",
    "        print(f\"Header: {hdu.header}\")\n",
    "        print(f\"Data type: {type(hdu.data)}\")\n"
   ]
  },
  {
   "cell_type": "code",
   "execution_count": 20,
   "metadata": {},
   "outputs": [
    {
     "name": "stdout",
     "output_type": "stream",
     "text": [
      "ColDefs(\n",
      "    name = 'TIME'; format = 'D'; unit = 's'\n",
      "    name = 'GRT'; format = '7J'\n",
      "    name = 'FrameSequenceNumber'; format = 'K'\n",
      "    name = 'DataArray'; format = '2048B'\n",
      "    name = 'DecodingStatusFlag'; format = 'I'\n",
      "    name = 'DecodingErrorCount'; format = 'I'\n",
      "    name = 'DecodingErrorCorrCount'; format = 'I'\n",
      "    name = 'ErrorLocation'; format = '36I'\n",
      "    name = 'DecodingErrorCorrFlag'; format = '36I'\n",
      ")\n",
      "[(1.89906799e+08, [2016,    1,    8,    2,    2,   37, 4502], 21565721344, [222,   1, 234, ...,   2, 238, 238], 0, 0, 0, [0, 0, 0, 0, 0, 0, 0, 0, 0, 0, 0, 0, 0, 0, 0, 0, 0, 0, 0, 0, 0, 0, 0, 0, 0, 0, 0, 0, 0, 0, 0, 0, 0, 0, 0, 0], [ 12376,      0, -20480,      0,      0,      0, -19968,      0,      0,      0, -16384,   3612,     13,      0, -32768, -14094,   -246,    127,      0,      0,      0,      0,      0,      0,      0,      0,      0,      0,  19402,  18515,   -246,   -254,   -254,    127,  13312,   3647])\n",
      " (1.89906800e+08, [2016,    1,    8,    2,    2,   37, 4564], 21565721600, [222,   1, 234, ...,   2, 238, 238], 0, 0, 0, [0, 0, 0, 0, 0, 0, 0, 0, 0, 0, 0, 0, 0, 0, 0, 0, 0, 0, 0, 0, 0, 0, 0, 0, 0, 0, 0, 0, 0, 0, 0, 0, 0, 0, 0, 0], [ 12376,      0, -20480,      0,      0,      0, -19968,      0,      0,      0, -16384,   3612,     13,      0, -32768, -14094,   -246,    127,      0,      0,      0,      0,      0,      0,      0,      0,      0,      0,  19402,  -8620,   -246,   -254,   -254,    127,  13312,   8806])\n",
      " (1.89906801e+08, [2016,    1,    8,    2,    2,   37, 4628], 21565722112, [222,   1, 234, ...,   2, 238, 238], 0, 0, 0, [0, 0, 0, 0, 0, 0, 0, 0, 0, 0, 0, 0, 0, 0, 0, 0, 0, 0, 0, 0, 0, 0, 0, 0, 0, 0, 0, 0, 0, 0, 0, 0, 0, 0, 0, 0], [ 12376,      0, -20480,      0,      0,      0, -19968,      0,      0,      0, -16384,   3612,     13,      0, -32768, -14094,   -246,    127,      0,      0,      0,      0,      0,      0,      0,      0,      0,      0,  19402,  29782,   -246,   -254,   -254,    127,  12800,  13965])\n",
      " ...\n",
      " (1.89914506e+08, [2016,    1,    8,    2,    3,   24, 7261], 21574874624, [222,   1, 234, ...,   6, 238, 238], 0, 0, 0, [0, 0, 0, 0, 0, 0, 0, 0, 0, 0, 0, 0, 0, 0, 0, 0, 0, 0, 0, 0, 0, 0, 0, 0, 0, 0, 0, 0, 0, 0, 0, 0, 0, 0, 0, 0], [ 12376,      0, -20480,      0,      0,      0, -19968,      0,      0,      0, -16384,   3612,     13,      0, -32768, -14094,   -246,    127,      0,      0,      0,      0,      0,      0,      0,      0,      0,      0,  31178,   1092,   -227,   -254,   -254,    127,  19968,  20504])\n",
      " (1.89914506e+08, [2016,    1,    8,    2,    3,   24, 7279], 21574874880, [222,   1, 234, ...,   2, 238, 238], 0, 0, 0, [0, 0, 0, 0, 0, 0, 0, 0, 0, 0, 0, 0, 0, 0, 0, 0, 0, 0, 0, 0, 0, 0, 0, 0, 0, 0, 0, 0, 0, 0, 0, 0, 0, 0, 0, 0], [ 12376,      0, -20480,      0,      0,      0, -19968,      0,      0,      0, -16384,   3612,     13,      0, -32768, -14094,   -246,    127,      0,      0,      0,      0,      0,      0,      0,      0,      0,      0,  31178,  15684,   -234,   -254,   -254,    127,  10240, -25915])\n",
      " (1.89914506e+08, [2016,    1,    8,    2,    3,   24, 7286], 21574875136, [222,   1, 234, ...,   2, 238, 238], 0, 0, 0, [0, 0, 0, 0, 0, 0, 0, 0, 0, 0, 0, 0, 0, 0, 0, 0, 0, 0, 0, 0, 0, 0, 0, 0, 0, 0, 0, 0, 0, 0, 0, 0, 0, 0, 0, 0], [ 12376,      0, -20480,      0,      0,      0, -19968,      0,      0,      0, -16384,   3612,     13,      0, -32768, -14094,   -246,    127,      0,      0,      0,      0,      0,      0,      0,      0,      0,      0,  31178,  30788,   -247,   -254,   -254,    127,  15104,  -6135])]\n"
     ]
    }
   ],
   "source": [
    "with fits.open('AS1G02_010T01_9000000252lxp1EA_level1.fits') as file:\n",
    "    # Access HDU 1\n",
    "    hdu1 = file[1]\n",
    "    \n",
    "    # Print the binary table structure\n",
    "    print(hdu1.columns)  # Display column names and formats\n",
    "\n",
    "    # Access the data\n",
    "    data = hdu1.data  # This is a structured array\n",
    "    print(data)  "
   ]
  },
  {
   "cell_type": "code",
   "execution_count": 21,
   "metadata": {},
   "outputs": [
    {
     "name": "stdout",
     "output_type": "stream",
     "text": [
      "Time: [1.89906799e+08 1.89906800e+08 1.89906801e+08 1.89906802e+08\n",
      " 1.89906803e+08]\n",
      "GRT: [[2016    1    8    2    2   37 4502]\n",
      " [2016    1    8    2    2   37 4564]\n",
      " [2016    1    8    2    2   37 4628]\n",
      " [2016    1    8    2    2   37 4689]\n",
      " [2016    1    8    2    2   37 4752]]\n",
      "Data Array Shape: (31995, 2048)\n"
     ]
    }
   ],
   "source": [
    "from astropy.io import fits\n",
    "\n",
    "# Open the FITS file\n",
    "with fits.open('AS1G02_010T01_9000000252lxp1EA_level1.fits') as file:\n",
    "    # Access HDU 1\n",
    "    hdu1 = file[1]\n",
    "    data = hdu1.data\n",
    "\n",
    "    # Access specific columns\n",
    "    time = data['TIME']  # Time column\n",
    "    grt = data['GRT']    # GRT column (7 integers per row)\n",
    "    data_array = data['DataArray']  # 2048-byte data array\n",
    "\n",
    "    # Print some data\n",
    "    print(\"Time:\", time[:5])  # First 5 time values\n",
    "    print(\"GRT:\", grt[:5])    # First 5 GRT values\n",
    "    print(\"Data Array Shape:\", data_array.shape)\n"
   ]
  },
  {
   "cell_type": "code",
   "execution_count": 23,
   "metadata": {},
   "outputs": [
    {
     "ename": "ValueError",
     "evalue": "cannot reshape array of size 2048 into shape (31995,2048)",
     "output_type": "error",
     "traceback": [
      "\u001b[0;31m---------------------------------------------------------------------------\u001b[0m",
      "\u001b[0;31mValueError\u001b[0m                                Traceback (most recent call last)",
      "Cell \u001b[0;32mIn[23], line 5\u001b[0m\n\u001b[1;32m      3\u001b[0m \u001b[38;5;66;03m# Reshape the first row of 'DataArray' into an image\u001b[39;00m\n\u001b[1;32m      4\u001b[0m image_shape \u001b[38;5;241m=\u001b[39m (\u001b[38;5;241m31995\u001b[39m, \u001b[38;5;241m2048\u001b[39m)  \u001b[38;5;66;03m# Replace with the correct dimensions\u001b[39;00m\n\u001b[0;32m----> 5\u001b[0m image_data \u001b[38;5;241m=\u001b[39m \u001b[43mnp\u001b[49m\u001b[38;5;241;43m.\u001b[39;49m\u001b[43mreshape\u001b[49m\u001b[43m(\u001b[49m\u001b[43mdata_array\u001b[49m\u001b[43m[\u001b[49m\u001b[38;5;241;43m0\u001b[39;49m\u001b[43m]\u001b[49m\u001b[43m,\u001b[49m\u001b[43m \u001b[49m\u001b[43mimage_shape\u001b[49m\u001b[43m)\u001b[49m\n\u001b[1;32m      7\u001b[0m \u001b[38;5;28mprint\u001b[39m(\u001b[38;5;124m\"\u001b[39m\u001b[38;5;124mImage Data Shape:\u001b[39m\u001b[38;5;124m\"\u001b[39m, image_data\u001b[38;5;241m.\u001b[39mshape)\n",
      "File \u001b[0;32m/Library/Frameworks/Python.framework/Versions/3.11/lib/python3.11/site-packages/numpy/core/fromnumeric.py:285\u001b[0m, in \u001b[0;36mreshape\u001b[0;34m(a, newshape, order)\u001b[0m\n\u001b[1;32m    200\u001b[0m \u001b[38;5;129m@array_function_dispatch\u001b[39m(_reshape_dispatcher)\n\u001b[1;32m    201\u001b[0m \u001b[38;5;28;01mdef\u001b[39;00m \u001b[38;5;21mreshape\u001b[39m(a, newshape, order\u001b[38;5;241m=\u001b[39m\u001b[38;5;124m'\u001b[39m\u001b[38;5;124mC\u001b[39m\u001b[38;5;124m'\u001b[39m):\n\u001b[1;32m    202\u001b[0m \u001b[38;5;250m    \u001b[39m\u001b[38;5;124;03m\"\"\"\u001b[39;00m\n\u001b[1;32m    203\u001b[0m \u001b[38;5;124;03m    Gives a new shape to an array without changing its data.\u001b[39;00m\n\u001b[1;32m    204\u001b[0m \n\u001b[0;32m   (...)\u001b[0m\n\u001b[1;32m    283\u001b[0m \u001b[38;5;124;03m           [5, 6]])\u001b[39;00m\n\u001b[1;32m    284\u001b[0m \u001b[38;5;124;03m    \"\"\"\u001b[39;00m\n\u001b[0;32m--> 285\u001b[0m     \u001b[38;5;28;01mreturn\u001b[39;00m \u001b[43m_wrapfunc\u001b[49m\u001b[43m(\u001b[49m\u001b[43ma\u001b[49m\u001b[43m,\u001b[49m\u001b[43m \u001b[49m\u001b[38;5;124;43m'\u001b[39;49m\u001b[38;5;124;43mreshape\u001b[39;49m\u001b[38;5;124;43m'\u001b[39;49m\u001b[43m,\u001b[49m\u001b[43m \u001b[49m\u001b[43mnewshape\u001b[49m\u001b[43m,\u001b[49m\u001b[43m \u001b[49m\u001b[43morder\u001b[49m\u001b[38;5;241;43m=\u001b[39;49m\u001b[43morder\u001b[49m\u001b[43m)\u001b[49m\n",
      "File \u001b[0;32m/Library/Frameworks/Python.framework/Versions/3.11/lib/python3.11/site-packages/numpy/core/fromnumeric.py:59\u001b[0m, in \u001b[0;36m_wrapfunc\u001b[0;34m(obj, method, *args, **kwds)\u001b[0m\n\u001b[1;32m     56\u001b[0m     \u001b[38;5;28;01mreturn\u001b[39;00m _wrapit(obj, method, \u001b[38;5;241m*\u001b[39margs, \u001b[38;5;241m*\u001b[39m\u001b[38;5;241m*\u001b[39mkwds)\n\u001b[1;32m     58\u001b[0m \u001b[38;5;28;01mtry\u001b[39;00m:\n\u001b[0;32m---> 59\u001b[0m     \u001b[38;5;28;01mreturn\u001b[39;00m \u001b[43mbound\u001b[49m\u001b[43m(\u001b[49m\u001b[38;5;241;43m*\u001b[39;49m\u001b[43margs\u001b[49m\u001b[43m,\u001b[49m\u001b[43m \u001b[49m\u001b[38;5;241;43m*\u001b[39;49m\u001b[38;5;241;43m*\u001b[39;49m\u001b[43mkwds\u001b[49m\u001b[43m)\u001b[49m\n\u001b[1;32m     60\u001b[0m \u001b[38;5;28;01mexcept\u001b[39;00m \u001b[38;5;167;01mTypeError\u001b[39;00m:\n\u001b[1;32m     61\u001b[0m     \u001b[38;5;66;03m# A TypeError occurs if the object does have such a method in its\u001b[39;00m\n\u001b[1;32m     62\u001b[0m     \u001b[38;5;66;03m# class, but its signature is not identical to that of NumPy's. This\u001b[39;00m\n\u001b[0;32m   (...)\u001b[0m\n\u001b[1;32m     66\u001b[0m     \u001b[38;5;66;03m# Call _wrapit from within the except clause to ensure a potential\u001b[39;00m\n\u001b[1;32m     67\u001b[0m     \u001b[38;5;66;03m# exception has a traceback chain.\u001b[39;00m\n\u001b[1;32m     68\u001b[0m     \u001b[38;5;28;01mreturn\u001b[39;00m _wrapit(obj, method, \u001b[38;5;241m*\u001b[39margs, \u001b[38;5;241m*\u001b[39m\u001b[38;5;241m*\u001b[39mkwds)\n",
      "\u001b[0;31mValueError\u001b[0m: cannot reshape array of size 2048 into shape (31995,2048)"
     ]
    }
   ],
   "source": [
    "import numpy as np\n",
    "\n",
    "# Reshape the first row of 'DataArray' into an image\n",
    "image_shape = (31995, 2048)  # Replace with the correct dimensions\n",
    "image_data = np.reshape(data_array[0], image_shape)\n",
    "\n",
    "print(\"Image Data Shape:\", image_data.shape)\n"
   ]
  },
  {
   "cell_type": "code",
   "execution_count": 24,
   "metadata": {},
   "outputs": [
    {
     "name": "stdout",
     "output_type": "stream",
     "text": [
      "Data Array Shape: (31995, 2048)\n"
     ]
    }
   ],
   "source": [
    "import numpy as np\n",
    "\n",
    "# Example data array with 31995 rows and 2048 elements per row\n",
    "data_array = np.random.randint(0, 256, (31995, 2048))  # Replace this with your actual data\n",
    "\n",
    "# Verify the shape\n",
    "print(\"Data Array Shape:\", data_array.shape)\n"
   ]
  },
  {
   "cell_type": "code",
   "execution_count": 25,
   "metadata": {},
   "outputs": [
    {
     "name": "stdout",
     "output_type": "stream",
     "text": [
      "Image Data Shape: (64, 32)\n"
     ]
    }
   ],
   "source": [
    "image_shape = (64, 32)  # Example shape where 64 * 32 = 2048\n",
    "image_data = np.reshape(data_array[0], image_shape)\n",
    "\n",
    "print(\"Image Data Shape:\", image_data.shape)"
   ]
  },
  {
   "cell_type": "code",
   "execution_count": 26,
   "metadata": {},
   "outputs": [
    {
     "data": {
      "image/png": "[encoded data removed]",
      "text/plain": [
       "<Figure size 640x480 with 2 Axes>"
      ]
     },
     "metadata": {},
     "output_type": "display_data"
    }
   ],
   "source": [
    "import matplotlib.pyplot as plt\n",
    "\n",
    "# Display the image\n",
    "plt.imshow(image_data, cmap='gray', origin='lower')\n",
    "plt.colorbar()\n",
    "plt.title(\"Extracted FITS Image\")\n",
    "plt.show()\n"
   ]
  },
  {
   "cell_type": "code",
   "execution_count": null,
   "metadata": {},
   "outputs": [],
   "source": []
  },
  {
   "cell_type": "code",
   "execution_count": null,
   "metadata": {},
   "outputs": [],
   "source": []
  }
 ],
 "metadata": {
  "kernelspec": {
   "display_name": "Python 3",
   "language": "python",
   "name": "python3"
  },
  "language_info": {
   "codemirror_mode": {
    "name": "ipython",
    "version": 3
   },
   "file_extension": ".py",
   "mimetype": "text/x-python",
   "name": "python",
   "nbconvert_exporter": "python",
   "pygments_lexer": "ipython3",
   "version": "3.11.6"
  }
 },
 "nbformat": 4,
 "nbformat_minor": 2
}
